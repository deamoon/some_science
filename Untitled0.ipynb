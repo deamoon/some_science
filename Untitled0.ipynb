{
 "metadata": {
  "name": "",
  "signature": "sha256:bca7b9e865a4b98ee4a6f8b1df2c3d42a4a262498bf7bafe0210476235813821"
 },
 "nbformat": 3,
 "nbformat_minor": 0,
 "worksheets": [
  {
   "cells": [
    {
     "cell_type": "code",
     "collapsed": false,
     "input": [
      "%%javascript\n",
      "IPython.load_extensions('hide_input/main');"
     ],
     "language": "python",
     "metadata": {
      "input_collapsed": true
     },
     "outputs": [
      {
       "javascript": [
        "IPython.load_extensions('hide_input/main');"
       ],
       "metadata": {},
       "output_type": "display_data",
       "text": [
        "<IPython.core.display.Javascript at 0x7f88a07b6650>"
       ]
      }
     ],
     "prompt_number": 1
    },
    {
     "cell_type": "code",
     "collapsed": false,
     "input": [],
     "language": "python",
     "metadata": {
      "input_collapsed": false
     },
     "outputs": []
    }
   ],
   "metadata": {}
  }
 ]
}