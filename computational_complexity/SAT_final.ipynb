{
 "metadata": {
  "name": "",
  "signature": "sha256:1b009391553267066c05c892995c289c222d0469426ad332b8eab1770bf8a63f"
 },
 "nbformat": 3,
 "nbformat_minor": 0,
 "worksheets": [
  {
   "cells": [
    {
     "cell_type": "code",
     "collapsed": false,
     "input": [
      "from IPython.display import HTML\n",
      "       \n",
      "javascript = \"\"\"\n",
      "<script src=\"js/skulpt.min.js\" type=\"text/javascript\"></script>\n",
      "<script src=\"js/skulpt-stdlib.js\" type=\"text/javascript\"></script> \n",
      "\n",
      "<script type=\"text/javascript\">\n",
      "  function outf(text) {\n",
      "    var mypre = document.getElementById(\"output\");\n",
      "    mypre.innerHTML = mypre.innerHTML + text;\n",
      "  }\n",
      "\n",
      "  function builtinRead(x) {\n",
      "    if (Sk.builtinFiles === undefined || Sk.builtinFiles[\"files\"][x] === undefined)\n",
      "    throw \"File not found: '\" + x + \"'\";\n",
      "    return Sk.builtinFiles[\"files\"][x];\n",
      "  }\n",
      "  \n",
      "  function runit() {\n",
      "    var prog = document.getElementById(\"yourcode\").value;\n",
      "    var input = document.getElementById(\"code_input\").value;\n",
      "    prog += \"calcSome(\" + input + \")\"\n",
      "    var mypre = document.getElementById(\"output\");\n",
      "    mypre.innerHTML = '';\n",
      "    Sk.canvas = \"mycanvas\";\n",
      "    Sk.pre = \"output\";\n",
      "    Sk.configure({output:outf, read:builtinRead});\n",
      "    try {\n",
      "      eval(Sk.importMainWithBody(\"<stdin>\", false, prog));\n",
      "    }\n",
      "    catch(e) {\n",
      "      outf(e.toString())\n",
      "    }\n",
      "  }\n",
      "\n",
      "</script>\n",
      "\"\"\"\n",
      "\n",
      "input_form = \"\"\"\n",
      "<form>\n",
      "<textarea style=\"display:none;\" id=\"yourcode\">\n",
      "def calcSome(input):\n",
      "  n = int(input)\n",
      "  print(n * n)\n",
      "\n",
      "</textarea>\n",
      "CalcSome(<input type=\"text\" id=\"code_input\" size=\"50\" height=\"2\" value=\"10\">)<br>\n",
      "<button type=\"button\" onclick=\"runit()\">Run</button>\n",
      "</form>\n",
      "<pre id=\"output\" ></pre>\n",
      "\"\"\"\n",
      "\n",
      "def calcSome(input):\n",
      "  n = int(input)\n",
      "  print(n * n)\n",
      "\n",
      "HTML(input_form + javascript)"
     ],
     "language": "python",
     "metadata": {},
     "outputs": [
      {
       "html": [
        "\n",
        "<form>\n",
        "<textarea style=\"display:none;\" id=\"yourcode\">\n",
        "def calcSome(input):\n",
        "  n = int(input)\n",
        "  print(n * n)\n",
        "\n",
        "</textarea>\n",
        "CalcSome(<input type=\"text\" id=\"code_input\" size=\"50\" height=\"2\" value=\"10\">)<br>\n",
        "<button type=\"button\" onclick=\"runit()\">Run</button>\n",
        "</form>\n",
        "<pre id=\"output\" ></pre>\n",
        "\n",
        "<script src=\"js/skulpt.min.js\" type=\"text/javascript\"></script>\n",
        "<script src=\"js/skulpt-stdlib.js\" type=\"text/javascript\"></script> \n",
        "\n",
        "<script type=\"text/javascript\">\n",
        "  function outf(text) {\n",
        "    var mypre = document.getElementById(\"output\");\n",
        "    mypre.innerHTML = mypre.innerHTML + text;\n",
        "  }\n",
        "\n",
        "  function builtinRead(x) {\n",
        "    if (Sk.builtinFiles === undefined || Sk.builtinFiles[\"files\"][x] === undefined)\n",
        "    throw \"File not found: '\" + x + \"'\";\n",
        "    return Sk.builtinFiles[\"files\"][x];\n",
        "  }\n",
        "  \n",
        "  function runit() {\n",
        "    var prog = document.getElementById(\"yourcode\").value;\n",
        "    var input = document.getElementById(\"code_input\").value;\n",
        "    prog += \"calcSome(\" + input + \")\"\n",
        "    var mypre = document.getElementById(\"output\");\n",
        "    mypre.innerHTML = '';\n",
        "    Sk.canvas = \"mycanvas\";\n",
        "    Sk.pre = \"output\";\n",
        "    Sk.configure({output:outf, read:builtinRead});\n",
        "    try {\n",
        "      eval(Sk.importMainWithBody(\"<stdin>\", false, prog));\n",
        "    }\n",
        "    catch(e) {\n",
        "      outf(e.toString())\n",
        "    }\n",
        "  }\n",
        "\n",
        "</script>\n"
       ],
       "metadata": {},
       "output_type": "pyout",
       "prompt_number": 15,
       "text": [
        "<IPython.core.display.HTML at 0x7fbf6a23fe10>"
       ]
      }
     ],
     "prompt_number": 15
    },
    {
     "cell_type": "code",
     "collapsed": false,
     "input": [
      "calcSome(\"123\")"
     ],
     "language": "python",
     "metadata": {
      "input_collapsed": false
     },
     "outputs": [
      {
       "output_type": "stream",
       "stream": "stdout",
       "text": [
        "15129\n"
       ]
      }
     ],
     "prompt_number": 20
    },
    {
     "cell_type": "code",
     "collapsed": false,
     "input": [
      "a = 3\n",
      "print b"
     ],
     "language": "python",
     "metadata": {},
     "outputs": [
      {
       "output_type": "stream",
       "stream": "stdout",
       "text": [
        "4\n"
       ]
      }
     ],
     "prompt_number": 18
    },
    {
     "cell_type": "code",
     "collapsed": false,
     "input": [
      "b = 4"
     ],
     "language": "python",
     "metadata": {},
     "outputs": [],
     "prompt_number": 17
    },
    {
     "cell_type": "code",
     "collapsed": false,
     "input": [],
     "language": "python",
     "metadata": {},
     "outputs": []
    }
   ],
   "metadata": {}
  }
 ]
}