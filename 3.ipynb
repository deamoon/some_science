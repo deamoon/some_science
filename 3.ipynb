{
 "metadata": {
  "name": "",
  "signature": "sha256:bcb07d8782bcf10652486f429b22769631f91740631e49711a89062872bfab6e"
 },
 "nbformat": 3,
 "nbformat_minor": 0,
 "worksheets": [
  {
   "cells": [
    {
     "cell_type": "code",
     "collapsed": false,
     "input": [
      "def fun(n):\n",
      "    n = int(n)\n",
      "    print(n + 1)"
     ],
     "language": "python",
     "metadata": {},
     "outputs": [],
     "prompt_number": 9
    },
    {
     "cell_type": "code",
     "collapsed": false,
     "input": [
      "from __future__ import print_function\n",
      "from IPython.html.widgets import interact, interactive, fixed\n",
      "from IPython.html import widgets"
     ],
     "language": "python",
     "metadata": {},
     "outputs": [],
     "prompt_number": 2
    },
    {
     "cell_type": "code",
     "collapsed": false,
     "input": [
      "interact(fun, n='10')"
     ],
     "language": "python",
     "metadata": {},
     "outputs": [
      {
       "output_type": "stream",
       "stream": "stdout",
       "text": [
        "12\n"
       ]
      }
     ],
     "prompt_number": 11
    },
    {
     "cell_type": "code",
     "collapsed": false,
     "input": [
      "from IPython.display import HTML\n",
      "       \n",
      "javascript = \"\"\"\n",
      "<script src=\"js/skulpt.min.js\" type=\"text/javascript\"></script>\n",
      "<script src=\"js/skulpt-stdlib.js\" type=\"text/javascript\"></script> \n",
      "\n",
      "<script type=\"text/javascript\">\n",
      "  function outf(text) {\n",
      "    var mypre = document.getElementById(\"output\");\n",
      "    mypre.innerHTML = mypre.innerHTML + text;\n",
      "  }\n",
      "\n",
      "  function builtinRead(x) {\n",
      "    if (Sk.builtinFiles === undefined || Sk.builtinFiles[\"files\"][x] === undefined)\n",
      "    throw \"File not found: '\" + x + \"'\";\n",
      "    return Sk.builtinFiles[\"files\"][x];\n",
      "  }\n",
      "  \n",
      "  function runit() {\n",
      "    var prog = document.getElementById(\"yourcode\").value;\n",
      "    var input = document.getElementById(\"code_input\").value;\n",
      "    prog += \"fun(\" + input + \")\"\n",
      "    var mypre = document.getElementById(\"output\");\n",
      "    mypre.innerHTML = '';\n",
      "    Sk.canvas = \"mycanvas\";\n",
      "    Sk.pre = \"output\";\n",
      "    Sk.configure({output:outf, read:builtinRead});\n",
      "    try {\n",
      "      eval(Sk.importMainWithBody(\"<stdin>\", false, prog));\n",
      "    }\n",
      "    catch(e) {\n",
      "      alert(e.toString())\n",
      "    }\n",
      "  }\n",
      "\n",
      "</script>\n",
      "\"\"\"\n",
      "\n",
      "input_form = \"\"\"\n",
      "<form>\n",
      "<textarea style=\"display:none;\" id=\"yourcode\">\n",
      "def fun(n):\n",
      "  for i in range(int(n)):\n",
      "    print(i+1)\n",
      "\n",
      "</textarea>\n",
      "Input: <input type=\"text\" id=\"code_input\" size=\"50\" height=\"2\" value=\"10\"><br>\n",
      "<button type=\"button\" onclick=\"runit()\">Run</button>\n",
      "</form>\n",
      "<pre id=\"output\" ></pre>\n",
      "<canvas id=\"mycanvas\" ></mycanvas>\n",
      "\"\"\"\n",
      "\n",
      "HTML(input_form + javascript)"
     ],
     "language": "python",
     "metadata": {},
     "outputs": [
      {
       "html": [
        "\n",
        "<form>\n",
        "<textarea style=\"display:none;\" id=\"yourcode\">\n",
        "def fun(n):\n",
        "  for i in range(int(n)):\n",
        "    print(i+1)\n",
        "\n",
        "</textarea>\n",
        "Input: <input type=\"text\" id=\"code_input\" size=\"50\" height=\"2\" value=\"10\"><br>\n",
        "<button type=\"button\" onclick=\"runit()\">Run</button>\n",
        "</form>\n",
        "<pre id=\"output\" ></pre>\n",
        "<canvas id=\"mycanvas\" ></mycanvas>\n",
        "\n",
        "<script src=\"js/skulpt.min.js\" type=\"text/javascript\"></script>\n",
        "<script src=\"js/skulpt-stdlib.js\" type=\"text/javascript\"></script> \n",
        "\n",
        "<script type=\"text/javascript\">\n",
        "  function outf(text) {\n",
        "    var mypre = document.getElementById(\"output\");\n",
        "    mypre.innerHTML = mypre.innerHTML + text;\n",
        "  }\n",
        "\n",
        "  function builtinRead(x) {\n",
        "    if (Sk.builtinFiles === undefined || Sk.builtinFiles[\"files\"][x] === undefined)\n",
        "    throw \"File not found: '\" + x + \"'\";\n",
        "    return Sk.builtinFiles[\"files\"][x];\n",
        "  }\n",
        "  \n",
        "  function runit() {\n",
        "    var prog = document.getElementById(\"yourcode\").value;\n",
        "    var input = document.getElementById(\"code_input\").value;\n",
        "    prog += \"fun(\" + input + \")\"\n",
        "    var mypre = document.getElementById(\"output\");\n",
        "    mypre.innerHTML = '';\n",
        "    Sk.canvas = \"mycanvas\";\n",
        "    Sk.pre = \"output\";\n",
        "    Sk.configure({output:outf, read:builtinRead});\n",
        "    try {\n",
        "      eval(Sk.importMainWithBody(\"<stdin>\", false, prog));\n",
        "    }\n",
        "    catch(e) {\n",
        "      alert(e.toString())\n",
        "    }\n",
        "  }\n",
        "\n",
        "</script>\n"
       ],
       "metadata": {},
       "output_type": "pyout",
       "prompt_number": 36,
       "text": [
        "<IPython.core.display.HTML at 0x7fa1d0a83790>"
       ]
      }
     ],
     "prompt_number": 36
    },
    {
     "cell_type": "code",
     "collapsed": false,
     "input": [],
     "language": "python",
     "metadata": {},
     "outputs": []
    }
   ],
   "metadata": {}
  }
 ]
}
